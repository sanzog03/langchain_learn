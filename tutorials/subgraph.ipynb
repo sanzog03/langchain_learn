{
 "cells": [
  {
   "cell_type": "markdown",
   "id": "1b6fe574",
   "metadata": {},
   "source": [
    "### A compiled graph is called runnables. Any runnables can be added in the graph as a node.\n",
    "\n",
    "#### create_react_agent creates a runnable.\n",
    "  - Infact, create_react_agent is an abstraction to the graph nodes and edeges needed for the reAct reasoning pattern\n",
    "  - The create_react_agent creates the graph and nodes and then compiles it to generate a runnable"
   ]
  },
  {
   "cell_type": "code",
   "execution_count": 13,
   "id": "c7fa95ab",
   "metadata": {},
   "outputs": [
    {
     "name": "stdout",
     "output_type": "stream",
     "text": [
      "--- Preparing research for: current weather in Boston ---\n",
      "--- Calling ReAct Sub-Agent ---\n",
      "+++++++++++++>>>>  Boston\n",
      "--- Summarizing Results ---\n",
      ">>>>>>>>> [('user', 'What is the weather in Boston?'), {'messages': [HumanMessage(content='What is the weather in Boston?', additional_kwargs={}, response_metadata={}, id='8e10d17a-5db8-473f-b88d-5cae1144eec3'), AIMessage(content='', additional_kwargs={'function_call': {'name': 'get_current_weather', 'arguments': '{\"location\": \"Boston\"}'}}, response_metadata={'prompt_feedback': {'block_reason': 0, 'safety_ratings': []}, 'finish_reason': 'STOP', 'model_name': 'gemini-2.0-flash', 'safety_ratings': []}, id='run--b16ad211-c181-4b76-8117-72cd1dd17f18-0', tool_calls=[{'name': 'get_current_weather', 'args': {'location': 'Boston'}, 'id': '1328d565-c1c1-4e75-a99b-def819234360', 'type': 'tool_call'}], usage_metadata={'input_tokens': 25, 'output_tokens': 7, 'total_tokens': 32, 'input_token_details': {'cache_read': 0}}), ToolMessage(content=\"It's sunny and 75 degrees in Boston.\", name='get_current_weather', id='29bc72fd-840b-4e8e-8cb1-c2462d742726', tool_call_id='1328d565-c1c1-4e75-a99b-def819234360'), AIMessage(content=\"It's sunny and 75 degrees in Boston.\", additional_kwargs={}, response_metadata={'prompt_feedback': {'block_reason': 0, 'safety_ratings': []}, 'finish_reason': 'STOP', 'model_name': 'gemini-2.0-flash', 'safety_ratings': []}, id='run--b7b7d7dc-7c01-4081-bf3a-48a368b3b2f4-0', usage_metadata={'input_tokens': 50, 'output_tokens': 13, 'total_tokens': 63, 'input_token_details': {'cache_read': 0}})]}]\n",
      "Summary: Based on our research, the weather report for current weather in Boston is: It's sunny and 75 degrees in Boston.\n",
      "\n",
      "--- Final Parent State ---\n",
      "{'messages': [('user', 'What is the weather in Boston?'), {'messages': [HumanMessage(content='What is the weather in Boston?', additional_kwargs={}, response_metadata={}, id='8e10d17a-5db8-473f-b88d-5cae1144eec3'), AIMessage(content='', additional_kwargs={'function_call': {'name': 'get_current_weather', 'arguments': '{\"location\": \"Boston\"}'}}, response_metadata={'prompt_feedback': {'block_reason': 0, 'safety_ratings': []}, 'finish_reason': 'STOP', 'model_name': 'gemini-2.0-flash', 'safety_ratings': []}, id='run--b16ad211-c181-4b76-8117-72cd1dd17f18-0', tool_calls=[{'name': 'get_current_weather', 'args': {'location': 'Boston'}, 'id': '1328d565-c1c1-4e75-a99b-def819234360', 'type': 'tool_call'}], usage_metadata={'input_tokens': 25, 'output_tokens': 7, 'total_tokens': 32, 'input_token_details': {'cache_read': 0}}), ToolMessage(content=\"It's sunny and 75 degrees in Boston.\", name='get_current_weather', id='29bc72fd-840b-4e8e-8cb1-c2462d742726', tool_call_id='1328d565-c1c1-4e75-a99b-def819234360'), AIMessage(content=\"It's sunny and 75 degrees in Boston.\", additional_kwargs={}, response_metadata={'prompt_feedback': {'block_reason': 0, 'safety_ratings': []}, 'finish_reason': 'STOP', 'model_name': 'gemini-2.0-flash', 'safety_ratings': []}, id='run--b7b7d7dc-7c01-4081-bf3a-48a368b3b2f4-0', usage_metadata={'input_tokens': 50, 'output_tokens': 13, 'total_tokens': 63, 'input_token_details': {'cache_read': 0}})]}], 'research_topic': 'current weather in Boston', 'weather_report': '', 'final_answer': \"Based on our research, the weather report for current weather in Boston is: It's sunny and 75 degrees in Boston.\"}\n",
      "\n",
      "Final Answer from Parent Graph: Based on our research, the weather report for current weather in Boston is: It's sunny and 75 degrees in Boston.\n"
     ]
    }
   ],
   "source": [
    "from langgraph.graph import StateGraph, END\n",
    "from langgraph.prebuilt import create_react_agent\n",
    "from langchain.chat_models import init_chat_model\n",
    "from langchain_core.tools import tool\n",
    "from typing import TypedDict, Annotated\n",
    "import operator\n",
    "\n",
    "# Define some tools for our sub-agent\n",
    "@tool\n",
    "def get_current_weather(location: str) -> str:\n",
    "    \"\"\"Get the current weather in a given location.\"\"\"\n",
    "    print(\"+++++++++++++>>>> \", location)\n",
    "    if \"boston\" in location.lower():\n",
    "        return \"It's sunny and 75 degrees in Boston.\"\n",
    "    elif \"new york\" in location.lower():\n",
    "        return \"It's cloudy and 60 degrees in New York.\"\n",
    "    else:\n",
    "        return \"Weather data not available for this location.\"\n",
    "\n",
    "tools = [get_current_weather]\n",
    "llm = init_chat_model(\"gemini-2.0-flash\", model_provider=\"google_genai\")\n",
    "\n",
    "# 1. Create the ReAct sub-agent\n",
    "# This is itself a fully functional LangGraph internally\n",
    "react_agent = create_react_agent(llm, tools)\n",
    "\n",
    "# 2. Define the state for our *parent* graph\n",
    "class ParentAgentState(TypedDict):\n",
    "    messages: Annotated[list, operator.add]\n",
    "    research_topic: str\n",
    "    weather_report: str\n",
    "    final_answer: str\n",
    "\n",
    "# 3. Create the parent graph\n",
    "parent_graph_builder = StateGraph(ParentAgentState)\n",
    "\n",
    "# Define a node for the ReAct sub-agent\n",
    "# This node will *invoke* our pre-built react_agent\n",
    "def call_react_agent_node(state: ParentAgentState):\n",
    "    print(\"--- Calling ReAct Sub-Agent ---\")\n",
    "    # The react_agent expects messages as input, so we pass the current messages\n",
    "    # and return its output as part of the state update.\n",
    "    # In a real scenario, you might want to transform the state for the subgraph\n",
    "    # and then transform its output back for the parent.\n",
    "    result = react_agent.invoke({\"messages\": state[\"messages\"]})\n",
    "    # 'result' from react_agent is usually an AIMessage or AgentFinish\n",
    "    # We want to add it to the messages list\n",
    "    return {\"messages\": [result]}\n",
    "\n",
    "# Define other nodes for the parent graph\n",
    "def prepare_research_topic(state: ParentAgentState):\n",
    "    # Imagine some logic to extract a research topic from initial messages\n",
    "    topic = \"current weather in Boston\" # Simplified for example\n",
    "    print(f\"--- Preparing research for: {topic} ---\")\n",
    "    return {\"research_topic\": topic, \"messages\": []} # Reset messages for new task\n",
    "\n",
    "def summarize_results(state: ParentAgentState):\n",
    "    print(\"--- Summarizing Results ---\")\n",
    "    # In a real scenario, this node would read the weather_report\n",
    "    # and existing messages to form a concise summary.\n",
    "    summary = f\"Based on our research, the weather report for {state['research_topic']} is: {state['messages'][-1]['messages'][-1].content}\"\n",
    "    print(\">>>>>>>>>\", state[\"messages\"])\n",
    "    print(f\"Summary: {summary}\")\n",
    "    return {\"final_answer\": summary}\n",
    "\n",
    "# 4. Add nodes to the parent graph\n",
    "parent_graph_builder.add_node(\"prepare_topic\", prepare_research_topic)\n",
    "parent_graph_builder.add_node(\"react_sub_agent\", call_react_agent_node) # Here it is!\n",
    "parent_graph_builder.add_node(\"summarize\", summarize_results)\n",
    "\n",
    "# 5. Define edges for the parent graph\n",
    "parent_graph_builder.set_entry_point(\"prepare_topic\")\n",
    "parent_graph_builder.add_edge(\"prepare_topic\", \"react_sub_agent\")\n",
    "\n",
    "# The react_sub_agent will finish its internal loop and return\n",
    "# We then route its output to the summarization step\n",
    "parent_graph_builder.add_edge(\"react_sub_agent\", \"summarize\")\n",
    "parent_graph_builder.add_edge(\"summarize\", END)\n",
    "\n",
    "# 6. Compile the parent graph\n",
    "parent_app = parent_graph_builder.compile()\n",
    "\n",
    "# Example invocation\n",
    "initial_state = {\"messages\": [(\"user\", \"What is the weather in Boston?\")], \"research_topic\": \"\", \"weather_report\": \"\", \"final_answer\": \"\"}\n",
    "final_state = parent_app.invoke(initial_state)\n",
    "\n",
    "print(\"\\n--- Final Parent State ---\")\n",
    "print(final_state)\n",
    "print(f\"\\nFinal Answer from Parent Graph: {final_state['final_answer']}\")"
   ]
  },
  {
   "cell_type": "code",
   "execution_count": 14,
   "id": "1b4930e2",
   "metadata": {},
   "outputs": [
    {
     "data": {
      "image/png": "[encoded data removed]",
      "text/plain": [
       "<IPython.core.display.Image object>"
      ]
     },
     "metadata": {},
     "output_type": "display_data"
    }
   ],
   "source": [
    "from IPython.display import Image, display\n",
    "\n",
    "try:\n",
    "  display(Image(parent_app.get_graph().draw_mermaid_png()))\n",
    "except exception:\n",
    "  pass"
   ]
  },
  {
   "cell_type": "code",
   "execution_count": null,
   "id": "d99f34e5",
   "metadata": {},
   "outputs": [],
   "source": []
  }
 ],
 "metadata": {
  "kernelspec": {
   "display_name": ".venv",
   "language": "python",
   "name": "python3"
  },
  "language_info": {
   "codemirror_mode": {
    "name": "ipython",
    "version": 3
   },
   "file_extension": ".py",
   "mimetype": "text/x-python",
   "name": "python",
   "nbconvert_exporter": "python",
   "pygments_lexer": "ipython3",
   "version": "3.12.10"
  }
 },
 "nbformat": 4,
 "nbformat_minor": 5
}
