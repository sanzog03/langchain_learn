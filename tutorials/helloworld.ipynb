{
 "cells": [
  {
   "cell_type": "markdown",
   "id": "e1f21059",
   "metadata": {},
   "source": [
    "## A Language Translator"
   ]
  },
  {
   "cell_type": "markdown",
   "id": "a47aaa2b",
   "metadata": {},
   "source": [
    "Envs"
   ]
  },
  {
   "cell_type": "markdown",
   "id": "912bf3d9",
   "metadata": {},
   "source": [
    "Setup LangSmith"
   ]
  },
  {
   "cell_type": "code",
   "execution_count": null,
   "id": "3a8730f6",
   "metadata": {},
   "outputs": [],
   "source": []
  },
  {
   "cell_type": "code",
   "execution_count": 1,
   "id": "a8b19a2e",
   "metadata": {},
   "outputs": [],
   "source": [
    "import getpass\n",
    "import os\n",
    "\n",
    "try:\n",
    "    # load environment variables from .env file (requires `python-dotenv`)\n",
    "    from dotenv import load_dotenv\n",
    "\n",
    "    load_dotenv()\n",
    "except ImportError:\n",
    "    pass\n",
    "\n",
    "os.environ[\"LANGSMITH_TRACING\"] = \"true\"\n",
    "if \"LANGSMITH_API_KEY\" not in os.environ:\n",
    "    os.environ[\"LANGSMITH_API_KEY\"] = getpass.getpass(\n",
    "        prompt=\"Enter your LangSmith API key (optional): \"\n",
    "    )\n",
    "if \"LANGSMITH_PROJECT\" not in os.environ:\n",
    "    os.environ[\"LANGSMITH_PROJECT\"] = getpass.getpass(\n",
    "        prompt='Enter your LangSmith Project Name (default = \"default\"): '\n",
    "    )\n",
    "    if not os.environ.get(\"LANGSMITH_PROJECT\"):\n",
    "        os.environ[\"LANGSMITH_PROJECT\"] = \"default\""
   ]
  },
  {
   "cell_type": "markdown",
   "id": "8938fb42",
   "metadata": {},
   "source": [
    "Language Models"
   ]
  },
  {
   "cell_type": "code",
   "execution_count": null,
   "id": "5035f40d",
   "metadata": {},
   "outputs": [],
   "source": [
    "import getpass\n",
    "import os\n",
    "\n",
    "if not os.environ.get(\"GOOGLE_API_KEY\"):\n",
    "  os.environ[\"GOOGLE_API_KEY\"] = getpass.getpass(\"Enter API key for Google Gemini: \")\n",
    "\n",
    "from langchain.chat_models import init_chat_model\n",
    "\n",
    "model = init_chat_model(\"gemini-2.0-flash\", model_provider=\"google_genai\")"
   ]
  },
  {
   "cell_type": "code",
   "execution_count": 7,
   "id": "7fef2f78",
   "metadata": {},
   "outputs": [
    {
     "name": "stderr",
     "output_type": "stream",
     "text": [
      "/Users/thapa24-mbp/Devs/sandbox/ai-agents/.venv/lib/python3.12/site-packages/langsmith/client.py:272: LangSmithMissingAPIKeyWarning: API key must be provided when using hosted LangSmith API\n",
      "  warnings.warn(\n",
      "Failed to multipart ingest runs: langsmith.utils.LangSmithAuthError: Authentication failed for https://api.smith.langchain.com/runs/multipart. HTTPError('401 Client Error: Unauthorized for url: https://api.smith.langchain.com/runs/multipart', '{\"error\":\"Unauthorized\"}\\n')trace=3c5e887e-e5da-4fbd-9a61-e0b4ce266357,id=3c5e887e-e5da-4fbd-9a61-e0b4ce266357\n"
     ]
    },
    {
     "data": {
      "text/plain": [
       "AIMessage(content='नमस्ते! तपाईलाई कस्तो छ?', additional_kwargs={}, response_metadata={'prompt_feedback': {'block_reason': 0, 'safety_ratings': []}, 'finish_reason': 'STOP', 'model_name': 'gemini-2.0-flash', 'safety_ratings': []}, id='run--3c5e887e-e5da-4fbd-9a61-e0b4ce266357-0', usage_metadata={'input_tokens': 14, 'output_tokens': 15, 'total_tokens': 29, 'input_token_details': {'cache_read': 0}})"
      ]
     },
     "execution_count": 7,
     "metadata": {},
     "output_type": "execute_result"
    },
    {
     "name": "stderr",
     "output_type": "stream",
     "text": [
      "Failed to send compressed multipart ingest: langsmith.utils.LangSmithAuthError: Authentication failed for https://api.smith.langchain.com/runs/multipart. HTTPError('401 Client Error: Unauthorized for url: https://api.smith.langchain.com/runs/multipart', '{\"error\":\"Unauthorized\"}\\n')trace=3c5e887e-e5da-4fbd-9a61-e0b4ce266357,id=3c5e887e-e5da-4fbd-9a61-e0b4ce266357\n",
      "Failed to send compressed multipart ingest: langsmith.utils.LangSmithAuthError: Authentication failed for https://api.smith.langchain.com/runs/multipart. HTTPError('401 Client Error: Unauthorized for url: https://api.smith.langchain.com/runs/multipart', '{\"error\":\"Unauthorized\"}\\n')trace=16762d65-6e17-4cdc-9ecd-f6b948e70fdd,id=16762d65-6e17-4cdc-9ecd-f6b948e70fdd; trace=16762d65-6e17-4cdc-9ecd-f6b948e70fdd,id=16762d65-6e17-4cdc-9ecd-f6b948e70fdd\n",
      "Failed to send compressed multipart ingest: langsmith.utils.LangSmithAuthError: Authentication failed for https://api.smith.langchain.com/runs/multipart. HTTPError('401 Client Error: Unauthorized for url: https://api.smith.langchain.com/runs/multipart', '{\"error\":\"Unauthorized\"}\\n')trace=50f99249-149c-4f52-a2bc-9c2bfadd1c14,id=50f99249-149c-4f52-a2bc-9c2bfadd1c14; trace=50f99249-149c-4f52-a2bc-9c2bfadd1c14,id=50f99249-149c-4f52-a2bc-9c2bfadd1c14\n",
      "Failed to send compressed multipart ingest: langsmith.utils.LangSmithAuthError: Authentication failed for https://api.smith.langchain.com/runs/multipart. HTTPError('401 Client Error: Unauthorized for url: https://api.smith.langchain.com/runs/multipart', '{\"error\":\"Unauthorized\"}\\n')trace=3fee6197-aa94-4d99-b7bc-6edab42d9ecd,id=3fee6197-aa94-4d99-b7bc-6edab42d9ecd\n",
      "Failed to send compressed multipart ingest: langsmith.utils.LangSmithAuthError: Authentication failed for https://api.smith.langchain.com/runs/multipart. HTTPError('401 Client Error: Unauthorized for url: https://api.smith.langchain.com/runs/multipart', '{\"error\":\"Unauthorized\"}\\n')trace=3fee6197-aa94-4d99-b7bc-6edab42d9ecd,id=3fee6197-aa94-4d99-b7bc-6edab42d9ecd\n"
     ]
    }
   ],
   "source": [
    "from langchain_core.messages import HumanMessage, SystemMessage\n",
    "\n",
    "messages = [\n",
    "  SystemMessage(\"Translate the following from English to Nepali\"),\n",
    "  HumanMessage(\"Hi! how are you doing?\")\n",
    "]\n",
    "\n",
    "model.invoke(messages)"
   ]
  },
  {
   "cell_type": "markdown",
   "id": "b949a7a4",
   "metadata": {},
   "source": [
    "#### The following are all same:\n",
    "\n",
    "model.invoke(\"Hello\")\n",
    "\n",
    "model.invoke([{\"role\": \"user\", \"content\": \"Hello\"}]) \n",
    "\n",
    "// ^--- this is important. it infers that the model.invoke function implementation will take the inputs and pass that to a prompt template. the template has variables like role, and content, which finally will be turned into model ready prompt.\n",
    "\n",
    "model.invoke([HumanMessage(\"Hello\")])"
   ]
  },
  {
   "cell_type": "markdown",
   "id": "17f8232d",
   "metadata": {},
   "source": [
    "Runnable interface: Streaming"
   ]
  },
  {
   "cell_type": "code",
   "execution_count": 9,
   "id": "9667d2a7",
   "metadata": {},
   "outputs": [
    {
     "name": "stdout",
     "output_type": "stream",
     "text": [
      "नमस्ते|! तपाईंलाई कस्तो छ?\n",
      "|"
     ]
    }
   ],
   "source": [
    "tokens = model.stream(messages)\n",
    "for token in tokens:\n",
    "  print(token.content, end=\"|\")"
   ]
  },
  {
   "cell_type": "markdown",
   "id": "4b7eb658",
   "metadata": {},
   "source": [
    "#### PROMPT TEMPLATE\n",
    "##### To create a model ready prompt from user input"
   ]
  },
  {
   "cell_type": "code",
   "execution_count": null,
   "id": "146af15b",
   "metadata": {},
   "outputs": [],
   "source": [
    "from langchain_core.prompts import ChatPromptTemplate\n",
    "\n",
    "system_template = \"Translate the following from English into {language}\"\n",
    "\n",
    "prompt_template = ChatPromptTemplate.from_messages([\n",
    "  (\"system\", system_template),\n",
    "  (\"user\", \"{text}\")\n",
    "])\n",
    "\n",
    "# (roles, message)\n",
    "# possible message roles: https://python.langchain.com/docs/concepts/messages/#role"
   ]
  },
  {
   "cell_type": "code",
   "execution_count": 12,
   "id": "d2f89eb4",
   "metadata": {},
   "outputs": [
    {
     "data": {
      "text/plain": [
       "ChatPromptValue(messages=[SystemMessage(content='Translate the following from English into Nepali', additional_kwargs={}, response_metadata={}), HumanMessage(content='what the hell are you doing?', additional_kwargs={}, response_metadata={})])"
      ]
     },
     "execution_count": 12,
     "metadata": {},
     "output_type": "execute_result"
    }
   ],
   "source": [
    "prompt = prompt_template.invoke({\"language\": \"Nepali\", \"text\": \"what the hell are you doing?\"})\n",
    "prompt"
   ]
  },
  {
   "cell_type": "code",
   "execution_count": 13,
   "id": "32221fd5",
   "metadata": {},
   "outputs": [
    {
     "name": "stdout",
     "output_type": "stream",
     "text": [
      "तँ के गरिरहेको छस्? / तिमी के गर्दैछौ? / हजुर के गर्दै हुनुहुन्छ?\n",
      "\n",
      "Which one you use depends on the level of respect you want to show.\n",
      "\n",
      "*   **तँ के गरिरहेको छस्?** - Very informal, almost rude. Use with close friends or someone you're angry with.\n",
      "*   **तिमी के गर्दैछौ?** - Informal, standard way to ask someone you know.\n",
      "*   **हजुर के गर्दै हुनुहुन्छ?** - Formal, respectful. Use with elders or people you don't know well.\n",
      "\n",
      "The phrase \"what the hell\" doesn't directly translate, but the tone of the chosen sentence reflects the level of anger or frustration.\n"
     ]
    }
   ],
   "source": [
    "model_result = model.invoke(prompt)\n",
    "print(model_result.content)"
   ]
  },
  {
   "cell_type": "code",
   "execution_count": 15,
   "id": "964acc0e",
   "metadata": {},
   "outputs": [
    {
     "data": {
      "text/plain": [
       "'System: Translate the following from English into Nepali\\nHuman: what the hell are you doing?'"
      ]
     },
     "execution_count": 15,
     "metadata": {},
     "output_type": "execute_result"
    }
   ],
   "source": [
    "prompt.to_string()"
   ]
  },
  {
   "cell_type": "code",
   "execution_count": null,
   "id": "1ec647d3",
   "metadata": {},
   "outputs": [],
   "source": []
  }
 ],
 "metadata": {
  "kernelspec": {
   "display_name": ".venv",
   "language": "python",
   "name": "python3"
  },
  "language_info": {
   "codemirror_mode": {
    "name": "ipython",
    "version": 3
   },
   "file_extension": ".py",
   "mimetype": "text/x-python",
   "name": "python",
   "nbconvert_exporter": "python",
   "pygments_lexer": "ipython3",
   "version": "3.12.10"
  }
 },
 "nbformat": 4,
 "nbformat_minor": 5
}
