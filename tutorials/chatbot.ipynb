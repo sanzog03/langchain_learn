{
 "cells": [
  {
   "cell_type": "markdown",
   "id": "c3046039",
   "metadata": {},
   "source": [
    "LANGCHAIN - CHATBOT"
   ]
  },
  {
   "cell_type": "markdown",
   "id": "872d8ab0",
   "metadata": {},
   "source": [
    "To Note:\n",
    "model.invoke(\"how is the weather\")\n",
    "model.invoke(\"I live in huntsville\")\n",
    "\n",
    "These are context-less. The final result won't be the weather of huntsville. It'll be two separate things. "
   ]
  },
  {
   "cell_type": "code",
   "execution_count": 36,
   "id": "c53b159c",
   "metadata": {},
   "outputs": [],
   "source": [
    "import getpass\n",
    "import os\n",
    "\n",
    "os.environ[\"LANGSMITH_TRACING\"] = \"true\"\n",
    "os.environ[\"LANGSMITH_API_KEY\"] = getpass.getpass()"
   ]
  },
  {
   "cell_type": "markdown",
   "id": "9e64ee1b",
   "metadata": {},
   "source": [
    "Model"
   ]
  },
  {
   "cell_type": "code",
   "execution_count": 37,
   "id": "71ddc5e5",
   "metadata": {},
   "outputs": [],
   "source": [
    "import getpass\n",
    "import os\n",
    "\n",
    "if not os.environ.get(\"GOOGLE_API_KEY\"):\n",
    "  os.environ[\"GOOGLE_API_KEY\"] = getpass.getpass(\"Enter API key for Google Gemini: \")\n",
    "\n",
    "from langchain.chat_models import init_chat_model\n",
    "\n",
    "model = init_chat_model(\"gemini-2.0-flash\", model_provider=\"google_genai\")"
   ]
  },
  {
   "cell_type": "markdown",
   "id": "af20277b",
   "metadata": {},
   "source": [
    "No memory 😭"
   ]
  },
  {
   "cell_type": "code",
   "execution_count": 6,
   "id": "7e3b4ada",
   "metadata": {},
   "outputs": [
    {
     "name": "stderr",
     "output_type": "stream",
     "text": [
      "/Users/thapa24-mbp/Devs/sandbox/ai-agents/.venv/lib/python3.12/site-packages/langsmith/client.py:272: LangSmithMissingAPIKeyWarning: API key must be provided when using hosted LangSmith API\n",
      "  warnings.warn(\n",
      "Failed to multipart ingest runs: langsmith.utils.LangSmithAuthError: Authentication failed for https://api.smith.langchain.com/runs/multipart. HTTPError('401 Client Error: Unauthorized for url: https://api.smith.langchain.com/runs/multipart', '{\"error\":\"Unauthorized\"}\\n')trace=42bc9f92-42a6-4029-a356-8b6076eb4f80,id=42bc9f92-42a6-4029-a356-8b6076eb4f80\n"
     ]
    },
    {
     "data": {
      "text/plain": [
       "AIMessage(content=\"Hi Sanjog! It's nice to meet you. How can I help you today?\", additional_kwargs={}, response_metadata={'prompt_feedback': {'block_reason': 0, 'safety_ratings': []}, 'finish_reason': 'STOP', 'model_name': 'gemini-2.0-flash', 'safety_ratings': []}, id='run--42bc9f92-42a6-4029-a356-8b6076eb4f80-0', usage_metadata={'input_tokens': 6, 'output_tokens': 20, 'total_tokens': 26, 'input_token_details': {'cache_read': 0}})"
      ]
     },
     "execution_count": 6,
     "metadata": {},
     "output_type": "execute_result"
    },
    {
     "name": "stderr",
     "output_type": "stream",
     "text": [
      "Failed to send compressed multipart ingest: langsmith.utils.LangSmithAuthError: Authentication failed for https://api.smith.langchain.com/runs/multipart. HTTPError('401 Client Error: Unauthorized for url: https://api.smith.langchain.com/runs/multipart', '{\"error\":\"Unauthorized\"}\\n')trace=42bc9f92-42a6-4029-a356-8b6076eb4f80,id=42bc9f92-42a6-4029-a356-8b6076eb4f80\n",
      "Failed to send compressed multipart ingest: langsmith.utils.LangSmithAuthError: Authentication failed for https://api.smith.langchain.com/runs/multipart. HTTPError('401 Client Error: Unauthorized for url: https://api.smith.langchain.com/runs/multipart', '{\"error\":\"Unauthorized\"}\\n')trace=f6222440-ea54-4319-860d-0b1b700e8cb0,id=f6222440-ea54-4319-860d-0b1b700e8cb0\n",
      "Failed to send compressed multipart ingest: langsmith.utils.LangSmithAuthError: Authentication failed for https://api.smith.langchain.com/runs/multipart. HTTPError('401 Client Error: Unauthorized for url: https://api.smith.langchain.com/runs/multipart', '{\"error\":\"Unauthorized\"}\\n')trace=f6222440-ea54-4319-860d-0b1b700e8cb0,id=f6222440-ea54-4319-860d-0b1b700e8cb0\n",
      "Failed to send compressed multipart ingest: langsmith.utils.LangSmithAuthError: Authentication failed for https://api.smith.langchain.com/runs/multipart. HTTPError('401 Client Error: Unauthorized for url: https://api.smith.langchain.com/runs/multipart', '{\"error\":\"Unauthorized\"}\\n')trace=ba83d222-c9d7-45cc-95ea-ac91284f9ee3,id=ba83d222-c9d7-45cc-95ea-ac91284f9ee3; trace=ba83d222-c9d7-45cc-95ea-ac91284f9ee3,id=ba83d222-c9d7-45cc-95ea-ac91284f9ee3\n",
      "Failed to send compressed multipart ingest: langsmith.utils.LangSmithAuthError: Authentication failed for https://api.smith.langchain.com/runs/multipart. HTTPError('401 Client Error: Unauthorized for url: https://api.smith.langchain.com/runs/multipart', '{\"error\":\"Unauthorized\"}\\n')trace=034bff30-9388-4fab-a546-ec381715684d,id=034bff30-9388-4fab-a546-ec381715684d\n",
      "Failed to send compressed multipart ingest: langsmith.utils.LangSmithAuthError: Authentication failed for https://api.smith.langchain.com/runs/multipart. HTTPError('401 Client Error: Unauthorized for url: https://api.smith.langchain.com/runs/multipart', '{\"error\":\"Unauthorized\"}\\n')trace=034bff30-9388-4fab-a546-ec381715684d,id=034bff30-9388-4fab-a546-ec381715684d\n",
      "Failed to send compressed multipart ingest: langsmith.utils.LangSmithAuthError: Authentication failed for https://api.smith.langchain.com/runs/multipart. HTTPError('401 Client Error: Unauthorized for url: https://api.smith.langchain.com/runs/multipart', '{\"error\":\"Unauthorized\"}\\n')trace=dac514ab-f3cd-445e-9f74-3c068384f723,id=dac514ab-f3cd-445e-9f74-3c068384f723; trace=dac514ab-f3cd-445e-9f74-3c068384f723,id=5aabe7f3-eb2d-49b1-854d-e81907aaeb6a; trace=dac514ab-f3cd-445e-9f74-3c068384f723,id=e1562a14-c8e6-4b08-9f30-7a836a8d5571; trace=dac514ab-f3cd-445e-9f74-3c068384f723,id=e1562a14-c8e6-4b08-9f30-7a836a8d5571; trace=dac514ab-f3cd-445e-9f74-3c068384f723,id=5aabe7f3-eb2d-49b1-854d-e81907aaeb6a; trace=dac514ab-f3cd-445e-9f74-3c068384f723,id=dac514ab-f3cd-445e-9f74-3c068384f723\n",
      "Failed to send compressed multipart ingest: langsmith.utils.LangSmithAuthError: Authentication failed for https://api.smith.langchain.com/runs/multipart. HTTPError('401 Client Error: Unauthorized for url: https://api.smith.langchain.com/runs/multipart', '{\"error\":\"Unauthorized\"}\\n')trace=89f9f037-de16-4158-a2e7-b04bc783dd83,id=89f9f037-de16-4158-a2e7-b04bc783dd83; trace=89f9f037-de16-4158-a2e7-b04bc783dd83,id=8d3bf255-f841-4333-996d-1518883bbbe4; trace=89f9f037-de16-4158-a2e7-b04bc783dd83,id=f64219d7-dce8-470b-a1b8-44dbabe560ba\n",
      "Failed to send compressed multipart ingest: langsmith.utils.LangSmithAuthError: Authentication failed for https://api.smith.langchain.com/runs/multipart. HTTPError('401 Client Error: Unauthorized for url: https://api.smith.langchain.com/runs/multipart', '{\"error\":\"Unauthorized\"}\\n')trace=89f9f037-de16-4158-a2e7-b04bc783dd83,id=f64219d7-dce8-470b-a1b8-44dbabe560ba; trace=89f9f037-de16-4158-a2e7-b04bc783dd83,id=8d3bf255-f841-4333-996d-1518883bbbe4; trace=89f9f037-de16-4158-a2e7-b04bc783dd83,id=89f9f037-de16-4158-a2e7-b04bc783dd83\n",
      "Failed to send compressed multipart ingest: langsmith.utils.LangSmithAuthError: Authentication failed for https://api.smith.langchain.com/runs/multipart. HTTPError('401 Client Error: Unauthorized for url: https://api.smith.langchain.com/runs/multipart', '{\"error\":\"Unauthorized\"}\\n')trace=00aed1f7-6aa4-4696-81b7-c40ebd00f9e6,id=00aed1f7-6aa4-4696-81b7-c40ebd00f9e6; trace=00aed1f7-6aa4-4696-81b7-c40ebd00f9e6,id=0b1a9bda-bf6d-406e-b6fe-4ef992bec726; trace=00aed1f7-6aa4-4696-81b7-c40ebd00f9e6,id=1e7997e7-202a-4228-b8b9-0821640f2166\n",
      "Failed to send compressed multipart ingest: langsmith.utils.LangSmithAuthError: Authentication failed for https://api.smith.langchain.com/runs/multipart. HTTPError('401 Client Error: Unauthorized for url: https://api.smith.langchain.com/runs/multipart', '{\"error\":\"Unauthorized\"}\\n')trace=00aed1f7-6aa4-4696-81b7-c40ebd00f9e6,id=1e7997e7-202a-4228-b8b9-0821640f2166; trace=00aed1f7-6aa4-4696-81b7-c40ebd00f9e6,id=0b1a9bda-bf6d-406e-b6fe-4ef992bec726; trace=00aed1f7-6aa4-4696-81b7-c40ebd00f9e6,id=00aed1f7-6aa4-4696-81b7-c40ebd00f9e6; trace=588f5ad9-041e-463d-bb4c-d90135183827,id=588f5ad9-041e-463d-bb4c-d90135183827; trace=588f5ad9-041e-463d-bb4c-d90135183827,id=09accb01-2152-44f6-988e-c851230a3f93; trace=588f5ad9-041e-463d-bb4c-d90135183827,id=1bb984f5-b446-4d05-ad16-44cb834fd0e6\n",
      "Failed to send compressed multipart ingest: langsmith.utils.LangSmithAuthError: Authentication failed for https://api.smith.langchain.com/runs/multipart. HTTPError('401 Client Error: Unauthorized for url: https://api.smith.langchain.com/runs/multipart', '{\"error\":\"Unauthorized\"}\\n')trace=588f5ad9-041e-463d-bb4c-d90135183827,id=1bb984f5-b446-4d05-ad16-44cb834fd0e6; trace=588f5ad9-041e-463d-bb4c-d90135183827,id=09accb01-2152-44f6-988e-c851230a3f93; trace=588f5ad9-041e-463d-bb4c-d90135183827,id=588f5ad9-041e-463d-bb4c-d90135183827\n",
      "Failed to send compressed multipart ingest: langsmith.utils.LangSmithAuthError: Authentication failed for https://api.smith.langchain.com/runs/multipart. HTTPError('401 Client Error: Unauthorized for url: https://api.smith.langchain.com/runs/multipart', '{\"error\":\"Unauthorized\"}\\n')trace=31556648-44a9-4a89-8965-7a470f1eab91,id=31556648-44a9-4a89-8965-7a470f1eab91; trace=31556648-44a9-4a89-8965-7a470f1eab91,id=5a29aa9e-2857-46db-a1f9-49707f4efb46; trace=31556648-44a9-4a89-8965-7a470f1eab91,id=d9643e0a-f4ea-4148-9e59-05b91e432921\n",
      "Failed to send compressed multipart ingest: langsmith.utils.LangSmithAuthError: Authentication failed for https://api.smith.langchain.com/runs/multipart. HTTPError('401 Client Error: Unauthorized for url: https://api.smith.langchain.com/runs/multipart', '{\"error\":\"Unauthorized\"}\\n')trace=31556648-44a9-4a89-8965-7a470f1eab91,id=d9643e0a-f4ea-4148-9e59-05b91e432921; trace=31556648-44a9-4a89-8965-7a470f1eab91,id=5a29aa9e-2857-46db-a1f9-49707f4efb46; trace=31556648-44a9-4a89-8965-7a470f1eab91,id=31556648-44a9-4a89-8965-7a470f1eab91; trace=ff389de9-9fba-420c-901d-64543a17fffb,id=ff389de9-9fba-420c-901d-64543a17fffb; trace=ff389de9-9fba-420c-901d-64543a17fffb,id=49b5fb4f-1acf-45ef-96c9-589d549d66c8; trace=ff389de9-9fba-420c-901d-64543a17fffb,id=ea6bb127-8a8a-4a95-9022-32ca51fbc74f\n",
      "Failed to send compressed multipart ingest: langsmith.utils.LangSmithAuthError: Authentication failed for https://api.smith.langchain.com/runs/multipart. HTTPError('401 Client Error: Unauthorized for url: https://api.smith.langchain.com/runs/multipart', '{\"error\":\"Unauthorized\"}\\n')trace=ff389de9-9fba-420c-901d-64543a17fffb,id=ea6bb127-8a8a-4a95-9022-32ca51fbc74f; trace=ff389de9-9fba-420c-901d-64543a17fffb,id=49b5fb4f-1acf-45ef-96c9-589d549d66c8; trace=ff389de9-9fba-420c-901d-64543a17fffb,id=ff389de9-9fba-420c-901d-64543a17fffb\n",
      "Failed to send compressed multipart ingest: langsmith.utils.LangSmithAuthError: Authentication failed for https://api.smith.langchain.com/runs/multipart. HTTPError('401 Client Error: Unauthorized for url: https://api.smith.langchain.com/runs/multipart', '{\"error\":\"Unauthorized\"}\\n')trace=98636c3c-ac11-4bbd-88bc-257d77d02011,id=98636c3c-ac11-4bbd-88bc-257d77d02011; trace=98636c3c-ac11-4bbd-88bc-257d77d02011,id=f54563e4-6f1e-48ae-96d9-8073e49aa8c4; trace=98636c3c-ac11-4bbd-88bc-257d77d02011,id=84b1ac59-afcc-4b81-a59b-c28bf172b05c; trace=98636c3c-ac11-4bbd-88bc-257d77d02011,id=84b1ac59-afcc-4b81-a59b-c28bf172b05c; trace=98636c3c-ac11-4bbd-88bc-257d77d02011,id=f54563e4-6f1e-48ae-96d9-8073e49aa8c4; trace=98636c3c-ac11-4bbd-88bc-257d77d02011,id=98636c3c-ac11-4bbd-88bc-257d77d02011\n",
      "Failed to send compressed multipart ingest: langsmith.utils.LangSmithAuthError: Authentication failed for https://api.smith.langchain.com/runs/multipart. HTTPError('401 Client Error: Unauthorized for url: https://api.smith.langchain.com/runs/multipart', '{\"error\":\"Unauthorized\"}\\n')trace=f5290e4b-8e15-4bfb-9f72-1f8b97e2da0a,id=f5290e4b-8e15-4bfb-9f72-1f8b97e2da0a; trace=f5290e4b-8e15-4bfb-9f72-1f8b97e2da0a,id=0b98dd0f-4dd7-4070-b10e-43b36a2c70d4; trace=f5290e4b-8e15-4bfb-9f72-1f8b97e2da0a,id=81222e2b-b88f-4340-9b82-3aac4957eb60; trace=f5290e4b-8e15-4bfb-9f72-1f8b97e2da0a,id=81222e2b-b88f-4340-9b82-3aac4957eb60; trace=f5290e4b-8e15-4bfb-9f72-1f8b97e2da0a,id=0b98dd0f-4dd7-4070-b10e-43b36a2c70d4; trace=f5290e4b-8e15-4bfb-9f72-1f8b97e2da0a,id=f5290e4b-8e15-4bfb-9f72-1f8b97e2da0a\n",
      "Failed to send compressed multipart ingest: langsmith.utils.LangSmithAuthError: Authentication failed for https://api.smith.langchain.com/runs/multipart. HTTPError('401 Client Error: Unauthorized for url: https://api.smith.langchain.com/runs/multipart', '{\"error\":\"Unauthorized\"}\\n')trace=dd12ba0d-57e6-4c02-80b7-4e3b888fbd28,id=dd12ba0d-57e6-4c02-80b7-4e3b888fbd28; trace=dd12ba0d-57e6-4c02-80b7-4e3b888fbd28,id=dd12ba0d-57e6-4c02-80b7-4e3b888fbd28\n",
      "Failed to send compressed multipart ingest: langsmith.utils.LangSmithAuthError: Authentication failed for https://api.smith.langchain.com/runs/multipart. HTTPError('401 Client Error: Unauthorized for url: https://api.smith.langchain.com/runs/multipart', '{\"error\":\"Unauthorized\"}\\n')trace=8c3537c1-4806-4ac1-9026-379d2ef9be57,id=8c3537c1-4806-4ac1-9026-379d2ef9be57; trace=8c3537c1-4806-4ac1-9026-379d2ef9be57,id=c2f29e4e-0136-458b-9c00-815196e37f7b; trace=8c3537c1-4806-4ac1-9026-379d2ef9be57,id=10cf9464-f80f-4f0f-9444-24793f2f8f4f; trace=8c3537c1-4806-4ac1-9026-379d2ef9be57,id=10cf9464-f80f-4f0f-9444-24793f2f8f4f; trace=8c3537c1-4806-4ac1-9026-379d2ef9be57,id=fe2582d7-eba5-46cc-a99b-db319cb9822e\n",
      "Failed to send compressed multipart ingest: langsmith.utils.LangSmithAuthError: Authentication failed for https://api.smith.langchain.com/runs/multipart. HTTPError('401 Client Error: Unauthorized for url: https://api.smith.langchain.com/runs/multipart', '{\"error\":\"Unauthorized\"}\\n')trace=8c3537c1-4806-4ac1-9026-379d2ef9be57,id=fe2582d7-eba5-46cc-a99b-db319cb9822e; trace=8c3537c1-4806-4ac1-9026-379d2ef9be57,id=c2f29e4e-0136-458b-9c00-815196e37f7b; trace=8c3537c1-4806-4ac1-9026-379d2ef9be57,id=8c3537c1-4806-4ac1-9026-379d2ef9be57\n",
      "Failed to send compressed multipart ingest: langsmith.utils.LangSmithAuthError: Authentication failed for https://api.smith.langchain.com/runs/multipart. HTTPError('401 Client Error: Unauthorized for url: https://api.smith.langchain.com/runs/multipart', '{\"error\":\"Unauthorized\"}\\n')trace=c234c94c-a20d-4ae9-99bd-02ff1de97df0,id=c234c94c-a20d-4ae9-99bd-02ff1de97df0; trace=c234c94c-a20d-4ae9-99bd-02ff1de97df0,id=c234c94c-a20d-4ae9-99bd-02ff1de97df0\n",
      "Failed to send compressed multipart ingest: langsmith.utils.LangSmithAuthError: Authentication failed for https://api.smith.langchain.com/runs/multipart. HTTPError('401 Client Error: Unauthorized for url: https://api.smith.langchain.com/runs/multipart', '{\"error\":\"Unauthorized\"}\\n')trace=aa14295b-63ad-4769-b7c0-ea29162bcc0e,id=aa14295b-63ad-4769-b7c0-ea29162bcc0e; trace=aa14295b-63ad-4769-b7c0-ea29162bcc0e,id=9e0a8b32-8242-4f4e-890d-059236805118; trace=aa14295b-63ad-4769-b7c0-ea29162bcc0e,id=5841c959-2cec-411b-bfdd-05348f544179; trace=aa14295b-63ad-4769-b7c0-ea29162bcc0e,id=5841c959-2cec-411b-bfdd-05348f544179; trace=aa14295b-63ad-4769-b7c0-ea29162bcc0e,id=bbfad0fc-ba02-4ba2-834d-152caa493425\n",
      "Failed to send compressed multipart ingest: langsmith.utils.LangSmithAuthError: Authentication failed for https://api.smith.langchain.com/runs/multipart. HTTPError('401 Client Error: Unauthorized for url: https://api.smith.langchain.com/runs/multipart', '{\"error\":\"Unauthorized\"}\\n')trace=aa14295b-63ad-4769-b7c0-ea29162bcc0e,id=bbfad0fc-ba02-4ba2-834d-152caa493425; trace=aa14295b-63ad-4769-b7c0-ea29162bcc0e,id=9e0a8b32-8242-4f4e-890d-059236805118; trace=aa14295b-63ad-4769-b7c0-ea29162bcc0e,id=aa14295b-63ad-4769-b7c0-ea29162bcc0e\n",
      "Failed to send compressed multipart ingest: langsmith.utils.LangSmithAuthError: Authentication failed for https://api.smith.langchain.com/runs/multipart. HTTPError('401 Client Error: Unauthorized for url: https://api.smith.langchain.com/runs/multipart', '{\"error\":\"Unauthorized\"}\\n')trace=79f990c1-29f7-4722-bd71-de687ab7c4a8,id=79f990c1-29f7-4722-bd71-de687ab7c4a8; trace=79f990c1-29f7-4722-bd71-de687ab7c4a8,id=d26b2031-adca-4ef9-b9e0-97ecc99eb9c3; trace=79f990c1-29f7-4722-bd71-de687ab7c4a8,id=cc033615-b3fe-4efc-9ef6-c4a053308c8c; trace=79f990c1-29f7-4722-bd71-de687ab7c4a8,id=cc033615-b3fe-4efc-9ef6-c4a053308c8c; trace=79f990c1-29f7-4722-bd71-de687ab7c4a8,id=4e2c6cc1-a93f-4865-ba7d-88572cec7363\n",
      "Failed to send compressed multipart ingest: langsmith.utils.LangSmithAuthError: Authentication failed for https://api.smith.langchain.com/runs/multipart. HTTPError('401 Client Error: Unauthorized for url: https://api.smith.langchain.com/runs/multipart', '{\"error\":\"Unauthorized\"}\\n')trace=79f990c1-29f7-4722-bd71-de687ab7c4a8,id=4e2c6cc1-a93f-4865-ba7d-88572cec7363; trace=79f990c1-29f7-4722-bd71-de687ab7c4a8,id=d26b2031-adca-4ef9-b9e0-97ecc99eb9c3; trace=79f990c1-29f7-4722-bd71-de687ab7c4a8,id=79f990c1-29f7-4722-bd71-de687ab7c4a8\n",
      "Failed to send compressed multipart ingest: langsmith.utils.LangSmithAuthError: Authentication failed for https://api.smith.langchain.com/runs/multipart. HTTPError('401 Client Error: Unauthorized for url: https://api.smith.langchain.com/runs/multipart', '{\"error\":\"Unauthorized\"}\\n')trace=3d72ba90-0c55-41f4-8bc1-aa6e1bef0c79,id=3d72ba90-0c55-41f4-8bc1-aa6e1bef0c79\n",
      "Failed to send compressed multipart ingest: langsmith.utils.LangSmithAuthError: Authentication failed for https://api.smith.langchain.com/runs/multipart. HTTPError('401 Client Error: Unauthorized for url: https://api.smith.langchain.com/runs/multipart', '{\"error\":\"Unauthorized\"}\\n')trace=3d72ba90-0c55-41f4-8bc1-aa6e1bef0c79,id=3d72ba90-0c55-41f4-8bc1-aa6e1bef0c79\n",
      "Failed to send compressed multipart ingest: langsmith.utils.LangSmithAuthError: Authentication failed for https://api.smith.langchain.com/runs/multipart. HTTPError('401 Client Error: Unauthorized for url: https://api.smith.langchain.com/runs/multipart', '{\"error\":\"Unauthorized\"}\\n')trace=c6d5e255-c986-4cb7-87b8-5f20ed5ca937,id=c6d5e255-c986-4cb7-87b8-5f20ed5ca937; trace=c6d5e255-c986-4cb7-87b8-5f20ed5ca937,id=72e3ec02-4e9a-4671-9c40-e940dc3b7fca; trace=c6d5e255-c986-4cb7-87b8-5f20ed5ca937,id=940bf0db-2b17-42b0-b00f-6f9618a1e812; trace=c6d5e255-c986-4cb7-87b8-5f20ed5ca937,id=940bf0db-2b17-42b0-b00f-6f9618a1e812; trace=c6d5e255-c986-4cb7-87b8-5f20ed5ca937,id=b755b91f-6f7d-4630-8689-5fe074438e60; trace=c6d5e255-c986-4cb7-87b8-5f20ed5ca937,id=b755b91f-6f7d-4630-8689-5fe074438e60; trace=c6d5e255-c986-4cb7-87b8-5f20ed5ca937,id=3ca40188-e682-4c79-9a59-d3147d681dc2\n",
      "Failed to send compressed multipart ingest: langsmith.utils.LangSmithAuthError: Authentication failed for https://api.smith.langchain.com/runs/multipart. HTTPError('401 Client Error: Unauthorized for url: https://api.smith.langchain.com/runs/multipart', '{\"error\":\"Unauthorized\"}\\n')trace=c6d5e255-c986-4cb7-87b8-5f20ed5ca937,id=3ca40188-e682-4c79-9a59-d3147d681dc2; trace=c6d5e255-c986-4cb7-87b8-5f20ed5ca937,id=72e3ec02-4e9a-4671-9c40-e940dc3b7fca; trace=c6d5e255-c986-4cb7-87b8-5f20ed5ca937,id=c6d5e255-c986-4cb7-87b8-5f20ed5ca937\n"
     ]
    }
   ],
   "source": [
    "from langchain_core.messages import HumanMessage\n",
    "\n",
    "model.invoke([HumanMessage(content=\"Hi! I am sanjog\")])"
   ]
  },
  {
   "cell_type": "code",
   "execution_count": 8,
   "id": "364f447e",
   "metadata": {},
   "outputs": [
    {
     "data": {
      "text/plain": [
       "AIMessage(content=\"As a large language model, I don't know your name. You haven't told me! If you'd like to tell me, you can.\", additional_kwargs={}, response_metadata={'prompt_feedback': {'block_reason': 0, 'safety_ratings': []}, 'finish_reason': 'STOP', 'model_name': 'gemini-2.0-flash', 'safety_ratings': []}, id='run--f6222440-ea54-4319-860d-0b1b700e8cb0-0', usage_metadata={'input_tokens': 6, 'output_tokens': 34, 'total_tokens': 40, 'input_token_details': {'cache_read': 0}})"
      ]
     },
     "execution_count": 8,
     "metadata": {},
     "output_type": "execute_result"
    }
   ],
   "source": [
    "model.invoke([HumanMessage(content=\"What's my name??\")])"
   ]
  },
  {
   "cell_type": "markdown",
   "id": "88895d76",
   "metadata": {},
   "source": [
    "Lets provide memory; context from previous chat"
   ]
  },
  {
   "cell_type": "code",
   "execution_count": 9,
   "id": "d9417c6c",
   "metadata": {},
   "outputs": [
    {
     "data": {
      "text/plain": [
       "AIMessage(content='Your name is Sanjog. You told me that at the beginning of our conversation.', additional_kwargs={}, response_metadata={'prompt_feedback': {'block_reason': 0, 'safety_ratings': []}, 'finish_reason': 'STOP', 'model_name': 'gemini-2.0-flash', 'safety_ratings': []}, id='run--ba83d222-c9d7-45cc-95ea-ac91284f9ee3-0', usage_metadata={'input_tokens': 23, 'output_tokens': 18, 'total_tokens': 41, 'input_token_details': {'cache_read': 0}})"
      ]
     },
     "execution_count": 9,
     "metadata": {},
     "output_type": "execute_result"
    }
   ],
   "source": [
    "from langchain_core.messages import AIMessage\n",
    "\n",
    "model.invoke([\n",
    "  HumanMessage(content=\"Hi! I am sanjog\"),\n",
    "  AIMessage(content=\"Hello Sanjog! How can I assist you today?\"),\n",
    "  HumanMessage(content=\"What's my name?\")\n",
    "])"
   ]
  },
  {
   "cell_type": "markdown",
   "id": "31cbfcf0",
   "metadata": {},
   "source": [
    "### LangGraph has inherent message persistance\n",
    "\n",
    "remembers on the basis of threads in config"
   ]
  },
  {
   "cell_type": "code",
   "execution_count": 13,
   "id": "3ff10db1",
   "metadata": {},
   "outputs": [],
   "source": [
    "from langgraph.checkpoint.memory import MemorySaver\n",
    "from langgraph.graph import START, MessagesState, StateGraph\n",
    "\n",
    "# new graph\n",
    "workflow = StateGraph(state_schema=MessagesState)\n",
    "\n",
    "# function calling the model\n",
    "def call_model(state: MessagesState):\n",
    "  response = model.invoke(state['messages'])\n",
    "  print(\"messageState >>>\", state[\"messages\"])\n",
    "  return {\"messages\": response}\n",
    "\n",
    "# add a node in graph\n",
    "\n",
    "workflow.add_edge(START, \"model\")\n",
    "workflow.add_node(\"model\", call_model)\n",
    "\n",
    "# add memory\n",
    "\n",
    "memory = MemorySaver()\n",
    "app = workflow.compile(checkpointer=memory)"
   ]
  },
  {
   "cell_type": "code",
   "execution_count": 14,
   "id": "6b647982",
   "metadata": {},
   "outputs": [],
   "source": [
    "config = { \"configurable\": {\"thread_id\": \"abc123\"} }"
   ]
  },
  {
   "cell_type": "code",
   "execution_count": 15,
   "id": "02f788bc",
   "metadata": {},
   "outputs": [
    {
     "name": "stdout",
     "output_type": "stream",
     "text": [
      "messageState >>> [HumanMessage(content='Hi! I am Sanjog.', additional_kwargs={}, response_metadata={}, id='30f74bf0-2d7e-4269-a282-1421c3408796')]\n"
     ]
    },
    {
     "data": {
      "text/plain": [
       "[HumanMessage(content='Hi! I am Sanjog.', additional_kwargs={}, response_metadata={}, id='30f74bf0-2d7e-4269-a282-1421c3408796'),\n",
       " AIMessage(content=\"Hi Sanjog! It's nice to meet you. How can I help you today?\", additional_kwargs={}, response_metadata={'prompt_feedback': {'block_reason': 0, 'safety_ratings': []}, 'finish_reason': 'STOP', 'model_name': 'gemini-2.0-flash', 'safety_ratings': []}, id='run--e1562a14-c8e6-4b08-9f30-7a836a8d5571-0', usage_metadata={'input_tokens': 7, 'output_tokens': 20, 'total_tokens': 27, 'input_token_details': {'cache_read': 0}})]"
      ]
     },
     "execution_count": 15,
     "metadata": {},
     "output_type": "execute_result"
    }
   ],
   "source": [
    "from langchain_core.messages import HumanMessage\n",
    "\n",
    "query = \"Hi! I am Sanjog.\"\n",
    "input_message = [HumanMessage(query)]\n",
    "output = app.invoke({\"messages\": input_message}, config=config)\n",
    "output[\"messages\"]"
   ]
  },
  {
   "cell_type": "code",
   "execution_count": 16,
   "id": "15384a80",
   "metadata": {},
   "outputs": [
    {
     "name": "stdout",
     "output_type": "stream",
     "text": [
      "messageState >>> [HumanMessage(content='Hi! I am Sanjog.', additional_kwargs={}, response_metadata={}, id='30f74bf0-2d7e-4269-a282-1421c3408796'), AIMessage(content=\"Hi Sanjog! It's nice to meet you. How can I help you today?\", additional_kwargs={}, response_metadata={'prompt_feedback': {'block_reason': 0, 'safety_ratings': []}, 'finish_reason': 'STOP', 'model_name': 'gemini-2.0-flash', 'safety_ratings': []}, id='run--e1562a14-c8e6-4b08-9f30-7a836a8d5571-0', usage_metadata={'input_tokens': 7, 'output_tokens': 20, 'total_tokens': 27, 'input_token_details': {'cache_read': 0}}), HumanMessage(content=\"What's my name??\", additional_kwargs={}, response_metadata={}, id='036c3c2a-7a5d-4cd0-81b9-512c11d842ad')]\n"
     ]
    },
    {
     "data": {
      "text/plain": [
       "[HumanMessage(content='Hi! I am Sanjog.', additional_kwargs={}, response_metadata={}, id='30f74bf0-2d7e-4269-a282-1421c3408796'),\n",
       " AIMessage(content=\"Hi Sanjog! It's nice to meet you. How can I help you today?\", additional_kwargs={}, response_metadata={'prompt_feedback': {'block_reason': 0, 'safety_ratings': []}, 'finish_reason': 'STOP', 'model_name': 'gemini-2.0-flash', 'safety_ratings': []}, id='run--e1562a14-c8e6-4b08-9f30-7a836a8d5571-0', usage_metadata={'input_tokens': 7, 'output_tokens': 20, 'total_tokens': 27, 'input_token_details': {'cache_read': 0}}),\n",
       " HumanMessage(content=\"What's my name??\", additional_kwargs={}, response_metadata={}, id='036c3c2a-7a5d-4cd0-81b9-512c11d842ad'),\n",
       " AIMessage(content='Your name is Sanjog. You just told me! 😊', additional_kwargs={}, response_metadata={'prompt_feedback': {'block_reason': 0, 'safety_ratings': []}, 'finish_reason': 'STOP', 'model_name': 'gemini-2.0-flash', 'safety_ratings': []}, id='run--f64219d7-dce8-470b-a1b8-44dbabe560ba-0', usage_metadata={'input_tokens': 32, 'output_tokens': 13, 'total_tokens': 45, 'input_token_details': {'cache_read': 0}})]"
      ]
     },
     "execution_count": 16,
     "metadata": {},
     "output_type": "execute_result"
    }
   ],
   "source": [
    "query = \"What's my name??\"\n",
    "input_message = [HumanMessage(query)]\n",
    "output = app.invoke({\"messages\": input_message}, config=config) # same thread_id\n",
    "output[\"messages\"]"
   ]
  },
  {
   "cell_type": "code",
   "execution_count": 18,
   "id": "4f13b4ff",
   "metadata": {},
   "outputs": [
    {
     "name": "stdout",
     "output_type": "stream",
     "text": [
      "messageState >>> [HumanMessage(content=\"What's my name??\", additional_kwargs={}, response_metadata={}, id='efa5be56-a4f7-42fd-94f6-694e092175f9'), AIMessage(content=\"As an AI, I don't know your name. You haven't told me! You can tell me if you'd like, but it's entirely up to you.\", additional_kwargs={}, response_metadata={'prompt_feedback': {'block_reason': 0, 'safety_ratings': []}, 'finish_reason': 'STOP', 'model_name': 'gemini-2.0-flash', 'safety_ratings': []}, id='run--1e7997e7-202a-4228-b8b9-0821640f2166-0', usage_metadata={'input_tokens': 6, 'output_tokens': 39, 'total_tokens': 45, 'input_token_details': {'cache_read': 0}}), HumanMessage(content=\"What's my name??\", additional_kwargs={}, response_metadata={}, id='4a1eeeb8-3f3c-41b0-99e3-a05cfc3bc8db')]\n",
      "==================================\u001b[1m Ai Message \u001b[0m==================================\n",
      "\n",
      "I am an AI and do not have access to personal information. Therefore, I cannot know your name. You have not shared it with me.\n",
      "None\n",
      "****************************************************************************************************************\n",
      "messageState >>> [HumanMessage(content='Hi! I am Sanjog.', additional_kwargs={}, response_metadata={}, id='30f74bf0-2d7e-4269-a282-1421c3408796'), AIMessage(content=\"Hi Sanjog! It's nice to meet you. How can I help you today?\", additional_kwargs={}, response_metadata={'prompt_feedback': {'block_reason': 0, 'safety_ratings': []}, 'finish_reason': 'STOP', 'model_name': 'gemini-2.0-flash', 'safety_ratings': []}, id='run--e1562a14-c8e6-4b08-9f30-7a836a8d5571-0', usage_metadata={'input_tokens': 7, 'output_tokens': 20, 'total_tokens': 27, 'input_token_details': {'cache_read': 0}}), HumanMessage(content=\"What's my name??\", additional_kwargs={}, response_metadata={}, id='036c3c2a-7a5d-4cd0-81b9-512c11d842ad'), AIMessage(content='Your name is Sanjog. You just told me! 😊', additional_kwargs={}, response_metadata={'prompt_feedback': {'block_reason': 0, 'safety_ratings': []}, 'finish_reason': 'STOP', 'model_name': 'gemini-2.0-flash', 'safety_ratings': []}, id='run--f64219d7-dce8-470b-a1b8-44dbabe560ba-0', usage_metadata={'input_tokens': 32, 'output_tokens': 13, 'total_tokens': 45, 'input_token_details': {'cache_read': 0}}), HumanMessage(content=\"What's my name??\", additional_kwargs={}, response_metadata={}, id='efa5be56-a4f7-42fd-94f6-694e092175f9'), AIMessage(content='Your name is Sanjog.', additional_kwargs={}, response_metadata={'prompt_feedback': {'block_reason': 0, 'safety_ratings': []}, 'finish_reason': 'STOP', 'model_name': 'gemini-2.0-flash', 'safety_ratings': []}, id='run--1bb984f5-b446-4d05-ad16-44cb834fd0e6-0', usage_metadata={'input_tokens': 50, 'output_tokens': 7, 'total_tokens': 57, 'input_token_details': {'cache_read': 0}}), HumanMessage(content=\"What's my name??\", additional_kwargs={}, response_metadata={}, id='4a1eeeb8-3f3c-41b0-99e3-a05cfc3bc8db')]\n",
      "==================================\u001b[1m Ai Message \u001b[0m==================================\n",
      "\n",
      "Okay, I understand you might be testing me. Your name is still Sanjog. I will remember that! 😉\n",
      "None\n"
     ]
    }
   ],
   "source": [
    "config1 = { \"configurable\": {\"thread_id\": \"xyz321\"}}\n",
    "\n",
    "input_message = [HumanMessage(query)]\n",
    "output1 = app.invoke({\"messages\": input_message}, config=config1) # new thread_id\n",
    "res1 = output1[\"messages\"][-1].pretty_print()\n",
    "print(res1)\n",
    "\n",
    "print(\"****************************************************************************************************************\")\n",
    "\n",
    "output2 = app.invoke({\"messages\": input_message}, config=config) # same thread_id\n",
    "res2 = output2[\"messages\"][-1].pretty_print()\n",
    "print(res2)\n"
   ]
  },
  {
   "cell_type": "markdown",
   "id": "d3af3c33",
   "metadata": {},
   "source": [
    "For **async support**, update the call_model node to be an async function and use .ainvoke when invoking the application:\n"
   ]
  },
  {
   "cell_type": "markdown",
   "id": "e79420f2",
   "metadata": {},
   "source": [
    "Notes:\n",
    "  Langgraph:\n",
    "   while using MessagesState as stateSchema in graph: graph nodes should take in dict with message and spit out dict with messages"
   ]
  },
  {
   "cell_type": "markdown",
   "id": "118474dd",
   "metadata": {},
   "source": [
    "## Langgraph and templates"
   ]
  },
  {
   "cell_type": "code",
   "execution_count": 21,
   "id": "15e30b8d",
   "metadata": {},
   "outputs": [],
   "source": [
    "from langchain_core.prompts import ChatPromptTemplate, MessagesPlaceholder\n",
    "\n",
    "prompt_template = ChatPromptTemplate.from_messages(\n",
    "  [\n",
    "    \"system\", \"You talk like a drunk person. Answer all the question to the best of your ability.\",\n",
    "    MessagesPlaceholder(variable_name=\"messages\")\n",
    "  ]\n",
    ")"
   ]
  },
  {
   "cell_type": "code",
   "execution_count": 23,
   "id": "6eabfb02",
   "metadata": {},
   "outputs": [],
   "source": [
    "\n",
    "workflow1 = StateGraph(state_schema=MessagesState)\n",
    "\n",
    "def call_model_1(state: MessagesState) -> MessagesState:\n",
    "  prompt = prompt_template.invoke(state)\n",
    "  response = model.invoke(prompt)\n",
    "  return { \"messages\": response }\n",
    "\n",
    "workflow1.add_edge(START, \"model1\")\n",
    "workflow1.add_node(\"model1\", call_model_1)\n",
    "\n",
    "memory1 = MemorySaver()\n",
    "app1 = workflow1.compile(checkpointer=memory1)"
   ]
  },
  {
   "cell_type": "code",
   "execution_count": 25,
   "id": "7980c495",
   "metadata": {},
   "outputs": [
    {
     "name": "stdout",
     "output_type": "stream",
     "text": [
      "==================================\u001b[1m Ai Message \u001b[0m==================================\n",
      "\n",
      "Hic...SanjogT, you say? Well, hic...pleased ta meet ya! Name's...well, doesn't really matter, does it? Just call me...hic...call me whatever you want! So, SanjogT...what's shakin'? *Burps* Excuse me. What's on your mind, buddy?\n"
     ]
    }
   ],
   "source": [
    "query = \"Hi! I am sanjog.\"\n",
    "config = { \"configurable\": { \"thread_id\": \"something_new_12345\" } }\n",
    "\n",
    "input_messages = [HumanMessage(query)]\n",
    "op = app1.invoke({\"messages\": input_message}, config=config)\n",
    "op[\"messages\"][-1].pretty_print()"
   ]
  },
  {
   "cell_type": "markdown",
   "id": "b6cc4ff2",
   "metadata": {},
   "source": [
    "### V2: \n",
    "#### When template has multiple variables. Graph node should be aware of that variable. So a new custom StateGraph schema "
   ]
  },
  {
   "cell_type": "code",
   "execution_count": 38,
   "id": "2d5d4624",
   "metadata": {},
   "outputs": [],
   "source": [
    "prompt_template = ChatPromptTemplate.from_messages([\n",
    "  (\"system\", \"You are a helpful assistant. Answer all the questions to the best of your ability in {language}\"),\n",
    "  MessagesPlaceholder(variable_name=\"messages\")\n",
    "])"
   ]
  },
  {
   "cell_type": "code",
   "execution_count": 39,
   "id": "4cd1e825",
   "metadata": {},
   "outputs": [],
   "source": [
    "from typing import Sequence\n",
    "\n",
    "from langchain_core.messages import BaseMessage\n",
    "from langgraph.graph.message import add_messages\n",
    "from typing_extensions import Annotated, TypedDict\n",
    "\n",
    "class State(TypedDict):\n",
    "  messages: Annotated[Sequence[BaseMessage], add_messages]\n",
    "  language: str"
   ]
  },
  {
   "cell_type": "code",
   "execution_count": 40,
   "id": "a9f6548b",
   "metadata": {},
   "outputs": [],
   "source": [
    "workflow2 = StateGraph(state_schema=State)\n",
    "\n",
    "def call_model_2(state: State) -> State:\n",
    "  prompt = prompt_template.invoke(state)\n",
    "  response = model.invoke(prompt)\n",
    "  return { \"messages\": [response] }\n",
    "\n",
    "workflow2.add_edge(START, \"model_2\")\n",
    "workflow2.add_node(\"model_2\", call_model_2)\n",
    "\n",
    "app = workflow2.compile(checkpointer=MemorySaver())\n"
   ]
  },
  {
   "cell_type": "code",
   "execution_count": 41,
   "id": "ee3f78dd",
   "metadata": {},
   "outputs": [
    {
     "name": "stdout",
     "output_type": "stream",
     "text": [
      "==================================\u001b[1m Ai Message \u001b[0m==================================\n",
      "\n",
      "नमस्ते! मलाई सञ्जोग भनेर चिनाउनु भएकोमा धन्यवाद। म तपाईंलाई के मा सहयोग गर्न सक्छु?\n"
     ]
    }
   ],
   "source": [
    "config = { \"configurable\": { \"thread_id\": \"uuid12312321\"} }\n",
    "\n",
    "query = \"Hi! I am Sanjog.\"\n",
    "language = \"Nepali\"\n",
    "op = app.invoke({\n",
    "    \"messages\": [HumanMessage(query)],\n",
    "    \"language\": language \n",
    "  }, config=config)\n",
    "op[\"messages\"][-1].pretty_print()\n",
    "\n"
   ]
  },
  {
   "cell_type": "markdown",
   "id": "f932e8da",
   "metadata": {},
   "source": [
    "Using Trimmers"
   ]
  },
  {
   "cell_type": "code",
   "execution_count": 42,
   "id": "0d901769",
   "metadata": {},
   "outputs": [
    {
     "data": {
      "text/plain": [
       "[SystemMessage(content=\"you're a good assistant\", additional_kwargs={}, response_metadata={}),\n",
       " HumanMessage(content=\"hi! I'm bob\", additional_kwargs={}, response_metadata={}),\n",
       " AIMessage(content='hi!', additional_kwargs={}, response_metadata={}),\n",
       " HumanMessage(content='I like vanilla ice cream', additional_kwargs={}, response_metadata={}),\n",
       " AIMessage(content='nice', additional_kwargs={}, response_metadata={}),\n",
       " HumanMessage(content='whats 2 + 2', additional_kwargs={}, response_metadata={}),\n",
       " AIMessage(content='4', additional_kwargs={}, response_metadata={}),\n",
       " HumanMessage(content='thanks', additional_kwargs={}, response_metadata={}),\n",
       " AIMessage(content='no problem!', additional_kwargs={}, response_metadata={}),\n",
       " HumanMessage(content='having fun?', additional_kwargs={}, response_metadata={}),\n",
       " AIMessage(content='yes!', additional_kwargs={}, response_metadata={})]"
      ]
     },
     "execution_count": 42,
     "metadata": {},
     "output_type": "execute_result"
    }
   ],
   "source": [
    "from langchain_core.messages import SystemMessage, trim_messages\n",
    "\n",
    "trimmer = trim_messages(\n",
    "  max_tokens=65,\n",
    "  strategy=\"last\",\n",
    "  token_counter=model,\n",
    "  include_system=True,\n",
    "  allow_partial=False,\n",
    "  start_on=\"human\"\n",
    ")\n",
    "\n",
    "messages = [\n",
    "    SystemMessage(content=\"you're a good assistant\"),\n",
    "    HumanMessage(content=\"hi! I'm bob\"),\n",
    "    AIMessage(content=\"hi!\"),\n",
    "    HumanMessage(content=\"I like vanilla ice cream\"),\n",
    "    AIMessage(content=\"nice\"),\n",
    "    HumanMessage(content=\"whats 2 + 2\"),\n",
    "    AIMessage(content=\"4\"),\n",
    "    HumanMessage(content=\"thanks\"),\n",
    "    AIMessage(content=\"no problem!\"),\n",
    "    HumanMessage(content=\"having fun?\"),\n",
    "    AIMessage(content=\"yes!\"),\n",
    "]\n",
    "\n",
    "trimmer.invoke(messages)"
   ]
  },
  {
   "cell_type": "markdown",
   "id": "8a74e059",
   "metadata": {},
   "source": [
    "changing it in our langgraph"
   ]
  },
  {
   "cell_type": "code",
   "execution_count": 43,
   "id": "9e8937e5",
   "metadata": {},
   "outputs": [
    {
     "name": "stdout",
     "output_type": "stream",
     "text": [
      "==================================\u001b[1m Ai Message \u001b[0m==================================\n",
      "\n",
      "नमस्ते! मलाई भेटेर खुशी लाग्यो, संजोग। म तपाईँलाई कसरी सहयोग गर्न सक्छु?\n"
     ]
    }
   ],
   "source": [
    "workflow2 = StateGraph(state_schema=State)\n",
    "\n",
    "def call_model_2(state: State) -> State:\n",
    "  trimmed_message = trimmer.invoke(state[\"messages\"])\n",
    "  prompt = prompt_template.invoke({\"messages\": trimmed_message, \"language\": language})\n",
    "  response = model.invoke(prompt)\n",
    "  return { \"messages\": [response] }\n",
    "\n",
    "workflow2.add_edge(START, \"model_2\")\n",
    "workflow2.add_node(\"model_2\", call_model_2)\n",
    "\n",
    "app = workflow2.compile(checkpointer=MemorySaver())\n",
    "\n",
    "\n",
    "#\n",
    "\n",
    "config = { \"configurable\": { \"thread_id\": \"uuid12312321abc\"} }\n",
    "\n",
    "query = \"Hi! I am Sanjog.\"\n",
    "language = \"Nepali\"\n",
    "op = app.invoke({\n",
    "    \"messages\": [HumanMessage(query)],\n",
    "    \"language\": language \n",
    "  }, config=config)\n",
    "op[\"messages\"][-1].pretty_print()\n"
   ]
  },
  {
   "cell_type": "code",
   "execution_count": null,
   "id": "71ea3130",
   "metadata": {},
   "outputs": [],
   "source": []
  }
 ],
 "metadata": {
  "kernelspec": {
   "display_name": ".venv",
   "language": "python",
   "name": "python3"
  },
  "language_info": {
   "codemirror_mode": {
    "name": "ipython",
    "version": 3
   },
   "file_extension": ".py",
   "mimetype": "text/x-python",
   "name": "python",
   "nbconvert_exporter": "python",
   "pygments_lexer": "ipython3",
   "version": "3.12.10"
  }
 },
 "nbformat": 4,
 "nbformat_minor": 5
}
