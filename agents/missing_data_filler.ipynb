{
 "cells": [
  {
   "cell_type": "markdown",
   "id": "880c08d8",
   "metadata": {},
   "source": [
    "### Application"
   ]
  },
  {
   "cell_type": "code",
   "execution_count": 2,
   "id": "9118ca99",
   "metadata": {},
   "outputs": [],
   "source": [
    "from langgraph.graph import StateGraph, END, START\n",
    "from langgraph.prebuilt import create_react_agent\n",
    "from langchain.chat_models import init_chat_model\n",
    "from langchain_core.tools import tool\n"
   ]
  },
  {
   "cell_type": "code",
   "execution_count": 4,
   "id": "0cd12b5c",
   "metadata": {},
   "outputs": [],
   "source": [
    "llm = init_chat_model(\"google_genai:gemini-2.0-flash\")"
   ]
  },
  {
   "cell_type": "code",
   "execution_count": 16,
   "id": "5ee9222e",
   "metadata": {},
   "outputs": [],
   "source": [
    "# craete a data class\n",
    "from dataclasses import dataclass, field\n",
    "from typing import List\n",
    "\n",
    "# this is the data that we will form.\n",
    "# this will be used to create the config.json needed for airflow\n",
    "# Note: everything is flattened, for simplicity.\n",
    "@dataclass\n",
    "class ConfigVars:\n",
    "  title: str\n",
    "  collection: str\n",
    "  description: str\n",
    "  extent__spatial__bbox: str\n",
    "  extent__temporal__interval: List[List[str]]\n",
    "  dashboard_is_periodic: bool\n",
    "  dashboard_time_density: str\n",
    "  # and more\n",
    "  ctype: str = field(default=\"Collection\")\n",
    "  "
   ]
  },
  {
   "cell_type": "code",
   "execution_count": 17,
   "id": "389b3933",
   "metadata": {},
   "outputs": [],
   "source": [
    "from typing import TypedDict, Annotated\n",
    "import operator\n",
    "\n",
    "# here along with the messaege, the graph node will share the configs.\n",
    "# whatever is missing will be filled in the process by nodes/agents in the graph.\n",
    "class AgentState(TypedDict):\n",
    "  messages: Annotated[list, operator.add]\n",
    "  configs: ConfigVars"
   ]
  },
  {
   "cell_type": "code",
   "execution_count": 23,
   "id": "15380eaa",
   "metadata": {},
   "outputs": [],
   "source": [
    "import json\n",
    "\n",
    "# node 1\n",
    "def get_cmr_keys(cmr: json) -> List[str]:\n",
    "  \"\"\"\n",
    "  From the CMR json response, get the list of keys.\n",
    "  Basically letting us know, what variables and values\n",
    "  are available for us to work with. \n",
    "  \"\"\"\n",
    "  pass"
   ]
  },
  {
   "cell_type": "code",
   "execution_count": 25,
   "id": "12d96aa3",
   "metadata": {},
   "outputs": [],
   "source": [
    "# node 2\n",
    "def find_missing_variables(cmr_keys: List[str], stac_config_keys: List[str]) -> List[str]:\n",
    "  \"\"\"\n",
    "  Given a list of available CMR keys and the STAC needed keys, find the list of missing keys.\n",
    "  \"\"\"\n",
    "  pass\n"
   ]
  },
  {
   "cell_type": "code",
   "execution_count": null,
   "id": "65c9ab7c",
   "metadata": {},
   "outputs": [],
   "source": [
    "# tools for node 3, which is a react agent\n",
    "\n",
    "@tool\n",
    "def find_dashboard_is_periodic(concept_id: str) -> bool:\n",
    "  \"\"\"\n",
    "  Provided the concept_id from cmr, use it to get the list of granules.\n",
    "  based on the granules, figure out the periodicity\n",
    "  \"\"\"\n",
    "  \n",
    "# many more tools \n",
    "  \n",
    "tools = [find_dashboard_is_periodic]\n",
    "\n",
    "filler_react_agent = create_react_agent(llm, tools)"
   ]
  },
  {
   "cell_type": "code",
   "execution_count": 31,
   "id": "6125ddc5",
   "metadata": {},
   "outputs": [],
   "source": [
    "# node 3\n",
    "def call_filler_react_agent(state: AgentState):\n",
    "  \"\"\"\n",
    "  for the missing value in the state.configs variables,\n",
    "  try to fill in the value using available tools.\n",
    "  Maybe create a template with system message to command it to do so\n",
    "  \"\"\"\n",
    "  results = filler_react_agent.invoke({\"messages\": state[\"messages\"]})\n",
    "  return {\"messages\": [result]}"
   ]
  },
  {
   "cell_type": "code",
   "execution_count": 34,
   "id": "a3a5e903",
   "metadata": {},
   "outputs": [],
   "source": [
    "# node 4\n",
    "def formulate_stac_config(config: ConfigVars) -> dict:\n",
    "  \"\"\"\n",
    "  use the flattened configVars and then\n",
    "  formulate the necessary config json\n",
    "  \"\"\"\n",
    "  return {}"
   ]
  },
  {
   "cell_type": "code",
   "execution_count": 36,
   "id": "494ea2be",
   "metadata": {},
   "outputs": [],
   "source": [
    "# node 5\n",
    "def create_collection(stac_config: dict) -> None:\n",
    "  \"\"\"\n",
    "  request the airflow create_collection DAG, with the complete STAC config.json\n",
    "  \"\"\"\n",
    "  return None"
   ]
  },
  {
   "cell_type": "code",
   "execution_count": 43,
   "id": "47cf5052",
   "metadata": {},
   "outputs": [],
   "source": [
    "# finally create a graph\n",
    "graph_builder = StateGraph(AgentState)\n",
    "\n",
    "graph_builder.add_node(\"get_cmr_keys\", get_cmr_keys)\n",
    "graph_builder.add_node(\"find_missing_variables\", find_missing_variables)\n",
    "graph_builder.add_node(\"call_filler_react_agent\", call_filler_react_agent)\n",
    "graph_builder.add_node(\"formulate_stac_config\", formulate_stac_config)\n",
    "graph_builder.add_node(\"create_collection\", create_collection)\n",
    "\n",
    "graph_builder.add_edge(START, \"get_cmr_keys\")\n",
    "graph_builder.add_edge(\"get_cmr_keys\", \"find_missing_variables\")\n",
    "graph_builder.add_edge(\"find_missing_variables\", \"call_filler_react_agent\")\n",
    "graph_builder.add_edge(\"call_filler_react_agent\", \"formulate_stac_config\")\n",
    "graph_builder.add_edge(\"formulate_stac_config\", \"create_collection\")\n",
    "graph_builder.add_edge(\"create_collection\", END)\n",
    "\n",
    "graph = graph_builder.compile()\n"
   ]
  },
  {
   "cell_type": "code",
   "execution_count": 44,
   "id": "40ae10f3",
   "metadata": {},
   "outputs": [
    {
     "data": {
      "image/png": "[encoded data removed]",
      "text/plain": [
       "<IPython.core.display.Image object>"
      ]
     },
     "metadata": {},
     "output_type": "display_data"
    }
   ],
   "source": [
    "from IPython.display import Image, display\n",
    "\n",
    "try:\n",
    "  display(Image(graph.get_graph().draw_mermaid_png()))\n",
    "except exception:\n",
    "  pass"
   ]
  },
  {
   "cell_type": "code",
   "execution_count": 45,
   "id": "c95bcea8",
   "metadata": {},
   "outputs": [
    {
     "data": {
      "image/png": "[encoded data removed]",
      "text/plain": [
       "<IPython.core.display.Image object>"
      ]
     },
     "metadata": {},
     "output_type": "display_data"
    }
   ],
   "source": [
    "from IPython.display import Image, display\n",
    "\n",
    "try:\n",
    "  display(Image(filler_react_agent.get_graph().draw_mermaid_png()))\n",
    "except exception:\n",
    "  pass"
   ]
  },
  {
   "cell_type": "code",
   "execution_count": null,
   "id": "788cb75b",
   "metadata": {},
   "outputs": [],
   "source": []
  }
 ],
 "metadata": {
  "kernelspec": {
   "display_name": ".venv",
   "language": "python",
   "name": "python3"
  },
  "language_info": {
   "codemirror_mode": {
    "name": "ipython",
    "version": 3
   },
   "file_extension": ".py",
   "mimetype": "text/x-python",
   "name": "python",
   "nbconvert_exporter": "python",
   "pygments_lexer": "ipython3",
   "version": "3.12.10"
  }
 },
 "nbformat": 4,
 "nbformat_minor": 5
}
