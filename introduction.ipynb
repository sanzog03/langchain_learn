{
 "cells": [
  {
   "cell_type": "code",
   "execution_count": 3,
   "id": "8efcf88e",
   "metadata": {},
   "outputs": [],
   "source": [
    "import getpass\n",
    "import os\n",
    "\n",
    "if not os.environ.get(\"GOOGLE_API_KEY\"):\n",
    "  os.environ[\"GOOGLE_API_KEY\"] = getpass.getpass(\"Enter API key for Google Gemini: \")\n",
    "\n",
    "from langchain.chat_models import init_chat_model\n",
    "\n",
    "model = init_chat_model(\"gemini-2.0-flash\", model_provider=\"google_genai\")"
   ]
  },
  {
   "cell_type": "code",
   "execution_count": null,
   "id": "014c586e",
   "metadata": {},
   "outputs": [
    {
     "data": {
      "text/plain": [
       "AIMessage(content='I need a little more information to give you an accurate weather report!  Tell me:\\n\\n*   **Where are you located?** (City, State/Province, or even just a general region)\\n\\nOnce I know your location, I can check the weather for you.', additional_kwargs={}, response_metadata={'prompt_feedback': {'block_reason': 0, 'safety_ratings': []}, 'finish_reason': 'STOP', 'model_name': 'gemini-2.0-flash', 'safety_ratings': []}, id='run--c3bca67b-4196-419a-a83d-a66952916395-0', usage_metadata={'input_tokens': 7, 'output_tokens': 58, 'total_tokens': 65, 'input_token_details': {'cache_read': 0}})"
      ]
     },
     "execution_count": 5,
     "metadata": {},
     "output_type": "execute_result"
    }
   ],
   "source": [
    "model.invoke(\"Hows the weather like today?\")\n"
   ]
  },
  {
   "cell_type": "code",
   "execution_count": 6,
   "id": "fa482a6b",
   "metadata": {},
   "outputs": [
    {
     "data": {
      "text/plain": [
       "AIMessage(content='Okay! Living in Huntsville, Alabama, means you\\'re in a city with a lot to offer. Here are some things that might be relevant to you:\\n\\n*   **Space and Technology:** Huntsville is known as the \"Rocket City\" due to its strong ties to the space program and aerospace industry. NASA\\'s Marshall Space Flight Center is a major presence.\\n*   **Outdoor Activities:** There are numerous parks, hiking trails, and recreational areas in and around Huntsville. Monte Sano State Park is a popular destination.\\n*   **Museums and Attractions:** The U.S. Space & Rocket Center is a major draw, but there are also art museums, historical sites, and entertainment venues.\\n*   **Education:** Huntsville has a strong educational base, with the University of Alabama in Huntsville (UAH) being a prominent institution.\\n*   **Community Events:** Huntsville hosts a variety of festivals, concerts, and community events throughout the year.\\n*   **Cost of Living:** In general, the cost of living in Huntsville is relatively affordable compared to other major cities in the United States.\\n\\nIs there anything specific you\\'d like to know or talk about regarding living in Huntsville? For example, are you looking for:\\n\\n*   Recommendations for restaurants?\\n*   Information on local events?\\n*   Advice on finding housing?\\n*   Details about schools?\\n*   Anything else related to Huntsville?', additional_kwargs={}, response_metadata={'prompt_feedback': {'block_reason': 0, 'safety_ratings': []}, 'finish_reason': 'STOP', 'model_name': 'gemini-2.0-flash', 'safety_ratings': []}, id='run--c1cfc1b6-e8b4-44a8-87fe-067dfa21ec90-0', usage_metadata={'input_tokens': 5, 'output_tokens': 291, 'total_tokens': 296, 'input_token_details': {'cache_read': 0}})"
      ]
     },
     "execution_count": 6,
     "metadata": {},
     "output_type": "execute_result"
    }
   ],
   "source": [
    "model.invoke(\"I live in huntsville\")\n"
   ]
  },
  {
   "cell_type": "markdown",
   "id": "921a5ea5",
   "metadata": {},
   "source": [
    "Context is not preserved between two invocation 👆"
   ]
  },
  {
   "cell_type": "code",
   "execution_count": null,
   "id": "d1ff3fe2",
   "metadata": {},
   "outputs": [],
   "source": []
  }
 ],
 "metadata": {
  "kernelspec": {
   "display_name": ".venv",
   "language": "python",
   "name": "python3"
  },
  "language_info": {
   "codemirror_mode": {
    "name": "ipython",
    "version": 3
   },
   "file_extension": ".py",
   "mimetype": "text/x-python",
   "name": "python",
   "nbconvert_exporter": "python",
   "pygments_lexer": "ipython3",
   "version": "3.12.10"
  }
 },
 "nbformat": 4,
 "nbformat_minor": 5
}
